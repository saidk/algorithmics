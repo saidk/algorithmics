{
 "cells": [
  {
   "cell_type": "markdown",
   "metadata": {},
   "source": [
    "EX1: The main critique is that the node distribution to pages in memory is bad for binary heap as when\n",
    "doing operations on the heap many more pages have to be fetched to main memory than is necessary\n",
    "for the operation that is attempted. That is because if moving vertically through the heap almost\n",
    "every node is on another page, because almost all levels are on different pages.\n",
    "B-heap is a heap implemented to keep subtrees in fixed-length blocks of virtual memory, which leads to\n",
    "\"reduced the VM footprint and, consequently, VM page faults\".\n",
    "First seven nodes in b-heap are indexed as in a binary heap, then other nodes are grouped\n",
    "in eight, where first level contains 𝑖 and 𝑖 + 1, the second — 𝑖 + 2 and 𝑖 + 3, the third —\n",
    "𝑖 + 4, 𝑖 + 5, 𝑖 + 6, 𝑖 + 7 nodes. Then a new group of eight elements begins."
   ]
  },
  {
   "cell_type": "markdown",
   "metadata": {},
   "source": [
    "EX2: Two intervals A = (a1, b1) and B = (a2, b2) overlap if and only if a2 < b1 and a1 < b2"
   ]
  },
  {
   "cell_type": "markdown",
   "metadata": {},
   "source": [
    "<img src=\"4.jpg\">"
   ]
  },
  {
   "cell_type": "markdown",
   "metadata": {},
   "source": [
    "Here are 6 types of relationships:\n",
    "1.non-overlapping from the left to the reference interval: (1,3).\n",
    "2.non-overlapping from the right to the reference interval: (11,14).\n",
    "3.overlapping from the right to the reference interval: (7,6).\n",
    "4.overlapping from the left to the reference interval: (2,11).\n",
    "5.in the reference interval.\n",
    "6.include the reference interval."
   ]
  },
  {
   "cell_type": "markdown",
   "metadata": {},
   "source": [
    "Ex3: Inserting values 6, 4, 2, 9, 12, 20, 12, 13, 7, 5, 11 into a min-priority Binomial heap."
   ]
  },
  {
   "cell_type": "markdown",
   "metadata": {},
   "source": [
    "<img src=\"1.jpg\">"
   ]
  },
  {
   "cell_type": "markdown",
   "metadata": {},
   "source": [
    "<img src=\"2.jpg\">"
   ]
  },
  {
   "cell_type": "markdown",
   "metadata": {},
   "source": [
    "<img src=\"3.jpg\">"
   ]
  },
  {
   "cell_type": "markdown",
   "metadata": {},
   "source": [
    "EX4:"
   ]
  },
  {
   "cell_type": "markdown",
   "metadata": {},
   "source": [
    "EX5: The code below was taken by me from wikipedia. It is an implementation of a k-d tree. It is a space-partitioning data structure for organizing points in a k-dimensional space. Given a list of n points, the following algorithm uses a median-finding sort to construct a balanced k-d tree containing those points."
   ]
  },
  {
   "cell_type": "code",
   "execution_count": 71,
   "metadata": {},
   "outputs": [
    {
     "name": "stdout",
     "output_type": "stream",
     "text": [
      "((60.91, 38.7, 26.6, 81.9),\n",
      " ((10.36, 40.16, 73.01, 28.76),\n",
      " ((37.5, 17.07, 67.45, 47.57),\n",
      " ((22.75, 26.87, 51.45, 89.81), ((12.32, 1.54, 32.08, 38.43), None, None), None),\n",
      " ((20.94, 1.42, 81.92, 22.04), None, None)),\n",
      " ((25.58, 97.98, 33.35, 86.06),\n",
      " ((41.63, 95.85, 29.15, 97.37), ((45.47, 48.67, 20.09, 71.35), None, None), None),\n",
      " ((15.24, 79.05, 83.79, 48.47), None, None))),\n",
      " ((65.94, 44.86, 35.05, 65.39),\n",
      " ((61.15, 37.69, 66.32, 82.65),\n",
      " ((72.22, 23.59, 7.51, 53.8), ((81.43, 12.07, 34.5, 43.36), None, None), None),\n",
      " ((90.28, 34.17, 97.13, 92.62), None, None)),\n",
      " ((81.32, 48.76, 92.31, 66.0),\n",
      " ((66.48, 75.14, 39.06, 63.5), ((69.09, 54.0, 25.41, 53.81), None, None), None),\n",
      " ((77.12, 73.64, 94.43, 44.94), None, None))))\n"
     ]
    }
   ],
   "source": [
    "from collections import namedtuple\n",
    "from operator import itemgetter\n",
    "from pprint import pformat\n",
    "\n",
    "class Node(namedtuple('Node', 'location left_child right_child')):\n",
    "    def __repr__(self):\n",
    "        return pformat(tuple(self))\n",
    "\n",
    "def kdtree(point_list, depth=0):\n",
    "    try:\n",
    "        k = len(point_list[0]) # assumes all points have the same dimension\n",
    "    except IndexError as e: # if not point_list:\n",
    "        return None\n",
    "    # Select axis based on depth so that axis cycles through all valid values\n",
    "    axis = depth % k\n",
    " \n",
    "    # Sort point list and choose median as pivot element\n",
    "    point_list.sort(key=itemgetter(axis))\n",
    "    median = len(point_list) // 2 # choose median\n",
    " \n",
    "    # Create node and construct subtrees\n",
    "    return Node(\n",
    "        location=point_list[median],\n",
    "        left_child=kdtree(point_list[:median], depth + 1),\n",
    "        right_child=kdtree(point_list[median + 1:], depth + 1)\n",
    "    )\n",
    "\n",
    "def main():\n",
    "    \"\"\"Example usage\"\"\"\n",
    "    point_list = [(69.09, 54.00, 25.41, 53.81), \\\n",
    "                  (20.94, 1.42, 81.92, 22.04), \n",
    "                  (37.50, 17.07, 67.45, 47.57), \n",
    "                  (81.43, 12.07, 34.50, 43.36), \n",
    "                  (45.47, 48.67, 20.09, 71.35), \n",
    "                  (61.15, 37.69, 66.32, 82.65), \n",
    "                  (10.36, 40.16, 73.01, 28.76), \n",
    "                  (81.32, 48.76, 92.31, 66.00), \n",
    "                  (25.58, 97.98, 33.35, 86.06), \n",
    "                  (41.63, 95.85, 29.15, 97.37), \n",
    "                  (12.32, 1.54, 32.08, 38.43), \n",
    "                  (15.24, 79.05, 83.79, 48.47), \n",
    "                  (65.94, 44.86, 35.05, 65.39), \n",
    "                  (66.48, 75.14, 39.06, 63.50), \n",
    "                  (90.28, 34.17, 97.13, 92.62), \n",
    "                  (60.91, 38.70, 26.60, 81.90), \n",
    "                  (22.75, 26.87, 51.45, 89.81), \n",
    "                  (72.22, 23.59, 7.51, 53.80), \n",
    "                  (77.12, 73.64, 94.43, 44.94)]\n",
    "    tree = kdtree(point_list)\n",
    "    print(tree)\n",
    "\n",
    "if __name__ == '__main__':\n",
    "    main()"
   ]
  },
  {
   "cell_type": "markdown",
   "metadata": {},
   "source": [
    "The output is a random hyperplane direction. "
   ]
  }
 ],
 "metadata": {
  "kernelspec": {
   "display_name": "Python 3",
   "language": "python",
   "name": "python3"
  },
  "language_info": {
   "codemirror_mode": {
    "name": "ipython",
    "version": 3
   },
   "file_extension": ".py",
   "mimetype": "text/x-python",
   "name": "python",
   "nbconvert_exporter": "python",
   "pygments_lexer": "ipython3",
   "version": "3.6.5"
  }
 },
 "nbformat": 4,
 "nbformat_minor": 2
}
