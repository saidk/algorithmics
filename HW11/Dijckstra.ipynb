{
 "cells": [
  {
   "cell_type": "code",
   "execution_count": 8,
   "metadata": {},
   "outputs": [],
   "source": []
  },
  {
   "cell_type": "code",
   "execution_count": 9,
   "metadata": {},
   "outputs": [
    {
     "name": "stdout",
     "output_type": "stream",
     "text": [
      "Vertex tDistance from Source\n",
      "0 t 0\n",
      "1 t 4\n",
      "2 t 12\n",
      "3 t 19\n",
      "4 t 21\n",
      "5 t 11\n",
      "6 t 9\n",
      "7 t 8\n",
      "8 t 14\n"
     ]
    }
   ],
   "source": [
    "g  = Graph(9) \n",
    "g.graph = [[0, 4, 0, 0, 0, 0, 0, 8, 0], \n",
    "           [4, 0, 8, 0, 0, 0, 0, 11, 0], \n",
    "           [0, 8, 0, 7, 0, 4, 0, 0, 2], \n",
    "           [0, 0, 7, 0, 9, 14, 0, 0, 0], \n",
    "           [0, 0, 0, 9, 0, 10, 0, 0, 0], \n",
    "           [0, 0, 4, 14, 10, 0, 2, 0, 0], \n",
    "           [0, 0, 0, 0, 0, 2, 0, 1, 6], \n",
    "           [8, 11, 0, 0, 0, 0, 1, 0, 7], \n",
    "           [0, 0, 2, 0, 0, 0, 6, 7, 0] \n",
    "          ]; \n",
    "  \n",
    "g.dijkstra(0); "
   ]
  },
  {
   "cell_type": "code",
   "execution_count": null,
   "metadata": {},
   "outputs": [],
   "source": []
  },
  {
   "cell_type": "code",
   "execution_count": 12,
   "metadata": {},
   "outputs": [
    {
     "ename": "AttributeError",
     "evalue": "'dict' object has no attribute 'iteritems'",
     "output_type": "error",
     "traceback": [
      "\u001b[1;31m---------------------------------------------------------------------------\u001b[0m",
      "\u001b[1;31mAttributeError\u001b[0m                            Traceback (most recent call last)",
      "\u001b[1;32m<ipython-input-12-92b18a704509>\u001b[0m in \u001b[0;36m<module>\u001b[1;34m\u001b[0m\n\u001b[0;32m     72\u001b[0m             (6,7):12}\n\u001b[0;32m     73\u001b[0m \u001b[1;33m\u001b[0m\u001b[0m\n\u001b[1;32m---> 74\u001b[1;33m     \u001b[0mcost\u001b[0m \u001b[1;33m=\u001b[0m \u001b[0mmake_undirected\u001b[0m\u001b[1;33m(\u001b[0m\u001b[0mcost\u001b[0m\u001b[1;33m)\u001b[0m\u001b[1;33m\u001b[0m\u001b[0m\n\u001b[0m\u001b[0;32m     75\u001b[0m \u001b[1;33m\u001b[0m\u001b[0m\n\u001b[0;32m     76\u001b[0m     \u001b[0ms\u001b[0m\u001b[1;33m,\u001b[0m \u001b[0mt\u001b[0m \u001b[1;33m=\u001b[0m \u001b[1;36m1\u001b[0m\u001b[1;33m,\u001b[0m \u001b[1;36m7\u001b[0m\u001b[1;33m\u001b[0m\u001b[0m\n",
      "\u001b[1;32m<ipython-input-12-92b18a704509>\u001b[0m in \u001b[0;36mmake_undirected\u001b[1;34m(cost)\u001b[0m\n\u001b[0;32m     42\u001b[0m \u001b[1;32mdef\u001b[0m \u001b[0mmake_undirected\u001b[0m\u001b[1;33m(\u001b[0m\u001b[0mcost\u001b[0m\u001b[1;33m)\u001b[0m\u001b[1;33m:\u001b[0m\u001b[1;33m\u001b[0m\u001b[0m\n\u001b[0;32m     43\u001b[0m     \u001b[0mucost\u001b[0m \u001b[1;33m=\u001b[0m \u001b[1;33m{\u001b[0m\u001b[1;33m}\u001b[0m\u001b[1;33m\u001b[0m\u001b[0m\n\u001b[1;32m---> 44\u001b[1;33m     \u001b[1;32mfor\u001b[0m \u001b[0mk\u001b[0m\u001b[1;33m,\u001b[0m \u001b[0mw\u001b[0m \u001b[1;32min\u001b[0m \u001b[0mcost\u001b[0m\u001b[1;33m.\u001b[0m\u001b[0miteritems\u001b[0m\u001b[1;33m(\u001b[0m\u001b[1;33m)\u001b[0m\u001b[1;33m:\u001b[0m\u001b[1;33m\u001b[0m\u001b[0m\n\u001b[0m\u001b[0;32m     45\u001b[0m         \u001b[0mucost\u001b[0m\u001b[1;33m[\u001b[0m\u001b[0mk\u001b[0m\u001b[1;33m]\u001b[0m \u001b[1;33m=\u001b[0m \u001b[0mw\u001b[0m\u001b[1;33m\u001b[0m\u001b[0m\n\u001b[0;32m     46\u001b[0m         \u001b[0mucost\u001b[0m\u001b[1;33m[\u001b[0m\u001b[1;33m(\u001b[0m\u001b[0mk\u001b[0m\u001b[1;33m[\u001b[0m\u001b[1;36m1\u001b[0m\u001b[1;33m]\u001b[0m\u001b[1;33m,\u001b[0m\u001b[0mk\u001b[0m\u001b[1;33m[\u001b[0m\u001b[1;36m0\u001b[0m\u001b[1;33m]\u001b[0m\u001b[1;33m)\u001b[0m\u001b[1;33m]\u001b[0m \u001b[1;33m=\u001b[0m \u001b[0mw\u001b[0m\u001b[1;33m\u001b[0m\u001b[0m\n",
      "\u001b[1;31mAttributeError\u001b[0m: 'dict' object has no attribute 'iteritems'"
     ]
    }
   ],
   "source": [
    "import heapq\n",
    "\n",
    "def dijkstra(adj, costs, s, t):\n",
    "    ''' Return predecessors and min distance if there exists a shortest path \n",
    "        from s to t; Otherwise, return None '''\n",
    "    Q = []     # priority queue of items; note item is mutable.\n",
    "    d = {s: 0} # vertex -> minimal distance\n",
    "    Qd = {}    # vertex -> [d[v], parent_v, v]\n",
    "    p = {}     # predecessor\n",
    "    visited_set = set([s])\n",
    "\n",
    "    for v in adj.get(s, []):\n",
    "        d[v] = costs[s, v]\n",
    "        item = [d[v], s, v]\n",
    "        heapq.heappush(Q, item)\n",
    "        Qd[v] = item\n",
    "\n",
    "    while Q:\n",
    "        print (Q)\n",
    "        cost, parent, u = heapq.heappop(Q)\n",
    "        if u not in visited_set:\n",
    "            print ('visit:', u)\n",
    "            p[u]= parent\n",
    "            visited_set.add(u)\n",
    "            if u == t:\n",
    "                return p, d[u]\n",
    "            for v in adj.get(u, []):\n",
    "                if d.get(v):\n",
    "                    if d[v] > costs[u, v] + d[u]:\n",
    "                        d[v] =  costs[u, v] + d[u]\n",
    "                        Qd[v][0] = d[v]    # decrease key\n",
    "                        Qd[v][1] = u       # update predecessor\n",
    "                        heapq._siftdown(Q, 0, Q.index(Qd[v]))\n",
    "                else:\n",
    "                    d[v] = costs[u, v] + d[u]\n",
    "                    item = [d[v], u, v]\n",
    "                    heapq.heappush(Q, item)\n",
    "                    Qd[v] = item\n",
    "\n",
    "    return None\n",
    "\n",
    "def make_undirected(cost):\n",
    "    ucost = {}\n",
    "    for k, w in cost.iteritems():\n",
    "        ucost[k] = w\n",
    "        ucost[(k[1],k[0])] = w\n",
    "    return ucost\n",
    "\n",
    "if __name__=='__main__':\n",
    "\n",
    "    # adjacent list\n",
    "    adj = { 1: [2,3,6],\n",
    "            2: [1,3,4],\n",
    "            3: [1,2,4,6],\n",
    "            4: [2,3,5,7],\n",
    "            5: [4,6,7],\n",
    "            6: [1,3,5,7],\n",
    "            7: [4,5,6]}\n",
    "\n",
    "    # edge costs\n",
    "    cost = { (1,2):7,\n",
    "            (1,3):9,\n",
    "            (1,6):14,\n",
    "            (2,3):10,\n",
    "            (2,4):15,\n",
    "            (3,4):11,\n",
    "            (3,6):2,\n",
    "            (4,5):6,\n",
    "            (5,6):9,\n",
    "            (4,7):2,\n",
    "            (5,7):1,\n",
    "            (6,7):12}\n",
    "\n",
    "    cost = make_undirected(cost)\n",
    "\n",
    "    s, t = 1, 7\n",
    "    predecessors, min_cost = dijkstra(adj, cost, s, t)\n",
    "    c = t\n",
    "    path = [c]\n",
    "    print ('min cost:', min_cost)\n",
    "    while predecessors.get(c):\n",
    "        path.insert(0, predecessors[c])\n",
    "        c = predecessors[c]\n",
    "\n",
    "    print ('shortest path:', path)"
   ]
  },
  {
   "cell_type": "code",
   "execution_count": null,
   "metadata": {},
   "outputs": [],
   "source": []
  }
 ],
 "metadata": {
  "kernelspec": {
   "display_name": "Python 3",
   "language": "python",
   "name": "python3"
  },
  "language_info": {
   "codemirror_mode": {
    "name": "ipython",
    "version": 3
   },
   "file_extension": ".py",
   "mimetype": "text/x-python",
   "name": "python",
   "nbconvert_exporter": "python",
   "pygments_lexer": "ipython3",
   "version": "3.6.5"
  }
 },
 "nbformat": 4,
 "nbformat_minor": 2
}
