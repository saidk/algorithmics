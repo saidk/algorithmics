{
 "cells": [
  {
   "cell_type": "code",
   "execution_count": 1,
   "metadata": {},
   "outputs": [],
   "source": [
    "from matplotlib.pyplot import imshow\n",
    "from PIL import Image\n",
    "import numpy as np\n",
    "import copy\n",
    "\n",
    "centers = [(180, 280)]\n",
    "places = {'B': {'color':[255, 0, 0], 'pos': (1021, 900) }}\n",
    "\n",
    "colors = [[[{} for k in range(256)] for i in range(256)] for j in range(256)]\n",
    "\n",
    "colors[255][192][203] = {'allowed': False, 'speed_coeff': 0}\n",
    "colors[173][216][230] = {'allowed': True, 'speed_coeff': 4}\n",
    "colors[144][238][144] = {'allowed': True, 'speed_coeff': 2}\n",
    "colors[0][0][255] = {'allowed': True, 'speed_coeff': 1} # blue\n",
    "colors[255][0][0] = {'allowed': True, 'speed_coeff': 1} # red\n",
    "colors[190][190][190] = {'allowed': False, 'speed_coeff': 0}\n",
    "colors[255][255][255] = {'allowed': True, 'speed_coeff': 1}\n",
    "\n",
    "\n",
    "lookup_color = [233, 220, 180, 255]"
   ]
  },
  {
   "cell_type": "code",
   "execution_count": 2,
   "metadata": {},
   "outputs": [
    {
     "data": {
      "text/plain": [
       "<matplotlib.image.AxesImage at 0x25505a9ab70>"
      ]
     },
     "execution_count": 2,
     "metadata": {},
     "output_type": "execute_result"
    },
    {
     "data": {
      "image/png": "[encoded data removed]",
      "text/plain": [
       "<Figure size 432x288 with 1 Axes>"
      ]
     },
     "metadata": {},
     "output_type": "display_data"
    }
   ],
   "source": [
    "img = Image.open('pixel_world.png')\n",
    "data = np.array(img)\n",
    "lookup = copy.deepcopy(data)\n",
    "path = copy.deepcopy(data)\n",
    "result_pic = copy.deepcopy(data)\n",
    "#converted = np.where(data == 0, 0, 255)\n",
    "#print(converted)\n",
    "\n",
    "img = Image.fromarray(lookup.astype('uint8'))\n",
    "#img.save('new_pic.jpg')\n",
    "imshow(np.asarray(img))"
   ]
  },
  {
   "cell_type": "code",
   "execution_count": 3,
   "metadata": {},
   "outputs": [],
   "source": [
    "from queue import Queue\n",
    "from queue import PriorityQueue\n",
    "from math import sqrt\n",
    "direction = [ (-1, 0), (-1, 1), (0, 1), (1, 1), (1, 0), (1, -1), (0, -1), (-1, -1)]\n",
    "\n",
    "def find_path(center, id):\n",
    "    color = places[id]['color']\n",
    "    dest = places[id]['pos']\n",
    "    found = None\n",
    "    q = PriorityQueue()\n",
    "    cost = {}\n",
    "    came_from = {}\n",
    "    def h(u, v):\n",
    "        return sqrt((u[0]-v[0])**2 + (u[1]-v[1])**2)\n",
    "        #return max(abs(u[0]-v[0]), abs(u[1]-v[1]))\n",
    "        #return abs(u[0]-v[0]) + abs(u[1]-v[1])\n",
    "    q.put((0, center))\n",
    "    cost[center] = 0\n",
    "    print((0, center))\n",
    "    best = None\n",
    "    while not q.empty():\n",
    "        u = q.get()[1]\n",
    "        #print(u, h(u, dest))\n",
    "        if np.array_equal(data[u[0]][u[1]][:-1], color):\n",
    "            found = u\n",
    "            break\n",
    "        cc = data[u[0]][u[1]]\n",
    "        lookup[u[0]][u[1]] = [int((cc[i] + lookup_color[i])/2.0) for i in range(len(cc))]\n",
    "        result_pic[u[0]][u[1]] = lookup[u[0]][u[1]]\n",
    "        #img = Image.fromarray(data.astype('uint8'))\n",
    "        #img.save(\"nax.png\")\n",
    "        for dir in direction:\n",
    "            i, j = u[0] + dir[0], u[1] + dir[1]\n",
    "            #print(\"adding:\", (i, j), \" with distance:\", h((i, j), dest))\n",
    "            next_color = data[i][j]\n",
    "            r, g, b = next_color[:-1]\n",
    "            #print(r, g, b)\n",
    "            if not colors[r][g][b]['allowed']:\n",
    "                continue\n",
    "            new_cost = cost[u] + 1*colors[r][g][b]['speed_coeff']\n",
    "            if (i, j) not in cost or new_cost < cost[(i, j)]:\n",
    "                cost[(i, j)] = new_cost\n",
    "                priority = new_cost + h((i,j), dest)\n",
    "                q.put((priority, (i,j)))\n",
    "                came_from[(i, j)] = u\n",
    "    print(\"Found:\", found)\n",
    "    path = [found]\n",
    "    current = found\n",
    "    while not current == center: \n",
    "        current = came_from[current]\n",
    "        path.append(current)\n",
    "    path.reverse()\n",
    "    return path"
   ]
  },
  {
   "cell_type": "code",
   "execution_count": 4,
   "metadata": {},
   "outputs": [
    {
     "name": "stdout",
     "output_type": "stream",
     "text": [
      "(0, (180, 280))\n",
      "Found: (1021, 907)\n"
     ]
    }
   ],
   "source": [
    "path = find_path(centers[0], 'B')"
   ]
  },
  {
   "cell_type": "code",
   "execution_count": 5,
   "metadata": {},
   "outputs": [
    {
     "data": {
      "text/plain": [
       "<matplotlib.image.AxesImage at 0x255037b4160>"
      ]
     },
     "execution_count": 5,
     "metadata": {},
     "output_type": "execute_result"
    },
    {
     "data": {
      "image/png": "[encoded data removed]",
      "text/plain": [
       "<Figure size 432x288 with 1 Axes>"
      ]
     },
     "metadata": {},
     "output_type": "display_data"
    }
   ],
   "source": [
    "for vertex in path:\n",
    "    result_pic[vertex[0]][vertex[1]] = [int(([0, 0, 0, 255][i] + lookup_color[i])/2.0) for i in range(4)]\n",
    "img = Image.fromarray(result_pic.astype('uint8'))\n",
    "img.save(\"nax.png\")\n",
    "imshow(np.asarray(img))"
   ]
  },
  {
   "cell_type": "code",
   "execution_count": null,
   "metadata": {},
   "outputs": [],
   "source": []
  }
 ],
 "metadata": {
  "kernelspec": {
   "display_name": "Python 3",
   "language": "python",
   "name": "python3"
  },
  "language_info": {
   "codemirror_mode": {
    "name": "ipython",
    "version": 3
   },
   "file_extension": ".py",
   "mimetype": "text/x-python",
   "name": "python",
   "nbconvert_exporter": "python",
   "pygments_lexer": "ipython3",
   "version": "3.6.5"
  }
 },
 "nbformat": 4,
 "nbformat_minor": 2
}
