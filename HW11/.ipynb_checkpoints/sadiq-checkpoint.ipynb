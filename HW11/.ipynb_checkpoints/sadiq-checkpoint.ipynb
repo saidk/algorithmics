{
 "cells": [
  {
   "cell_type": "markdown",
   "metadata": {},
   "source": [
    "EX1 and EX2:The code below is the implementation of A star algorithm, after finding the route I save in png file the actual shortest path in BLACK and the search front areas in light color. Actually it can be seen from the picture that the algorithm goes throuh the pink line. It can be happened because in diagonal the line can be passed because there exist some gap. The shortest path is 1458. Overall time for the algorithm to complete the path is 107.98048543930054.\n"
   ]
  },
  {
   "cell_type": "code",
   "execution_count": 50,
   "metadata": {},
   "outputs": [],
   "source": [
    "from PIL import Image\n",
    "from matplotlib.pyplot import imshow\n",
    "import copy\n",
    "import numpy as np\n",
    "from queue import Queue\n",
    "from queue import PriorityQueue\n",
    "from math import sqrt\n",
    "import time\n",
    "\n",
    "e = {}\n",
    "v = {}\n",
    "costs = [(173, 216, 230),(144, 238,144),(0, 0, 255),(255, 0, 0), (255, 255, 255), (0, 0, 0)]\n",
    "for i in range (len(costs)):\n",
    "    e[costs[i]] = True\n",
    "    if i == 0:\n",
    "        v[costs[i]] = 4\n",
    "    elif i == 1:\n",
    "        v[costs[i]] = 2\n",
    "    else:\n",
    "        v[costs[i]] = 1\n",
    "visitedColor = [145, 145, 145]\n"
   ]
  },
  {
   "cell_type": "code",
   "execution_count": 51,
   "metadata": {},
   "outputs": [],
   "source": [
    "\n",
    "img = Image.open('pixe_world.png')\n",
    "data = np.array(img)\n",
    "output = copy.deepcopy(data)"
   ]
  },
  {
   "cell_type": "code",
   "execution_count": 56,
   "metadata": {},
   "outputs": [],
   "source": [
    "direction = [(0, 1), (1, 1), (-1, 1),  (1, -1), (0, -1), (-1, -1), (1, 0), (-1, 0)]\n",
    "from_vertex = {}\n",
    "cost = {}\n",
    "queue = PriorityQueue()\n",
    "found = None\n",
    "\n",
    "def euclid(u, v):\n",
    "    return sqrt((u[0]-v[0])**2 + (u[1]-v[1])**2)\n",
    "\n",
    "def a_star(start, dest):\n",
    "    queue.put((0, start))\n",
    "    cost[start] = 0\n",
    "    best = None\n",
    "    while not queue.empty():\n",
    "        u = queue.get()[1]\n",
    "        if u[0] == dest[0] and u[1] == dest[1]:\n",
    "            found = u\n",
    "            break\n",
    "        cc = data[u[0]][u[1]]\n",
    "        output[u[0]][u[1]] = [int((cc[i] + visitedColor[i])/2.0) for i in range(len(cc))]\n",
    "        for dir in direction:\n",
    "            i, j = u[0] + dir[0], u[1] + dir[1]\n",
    "            next_color = data[i][j]\n",
    "            r, g, b = next_color\n",
    "            if (r, g, b) not in e:\n",
    "                continue\n",
    "            incr = 1\n",
    "            if abs(dir[0]) == abs(dir[1]):\n",
    "                incr = sqrt(2)\n",
    "            new_cost = cost[u] + incr*v[(r, g, b)]\n",
    "            if (i, j) not in cost or new_cost < cost[(i, j)]:\n",
    "                cost[(i, j)] = new_cost\n",
    "                priority = new_cost + euclid((i,j), dest)\n",
    "                queue.put((priority, (i,j)))\n",
    "                from_vertex[(i, j)] = u\n",
    "    path = [found]\n",
    "    current = found\n",
    "    while not current == start: \n",
    "        current = from_vertex[current]\n",
    "        path.append(current)\n",
    "    path.reverse()\n",
    "    return path"
   ]
  },
  {
   "cell_type": "code",
   "execution_count": 57,
   "metadata": {},
   "outputs": [
    {
     "name": "stdout",
     "output_type": "stream",
     "text": [
      "107.98048543930054\n"
     ]
    }
   ],
   "source": [
    "begin = time.time()\n",
    "path = a_star((180, 280), (1021, 900))\n",
    "end = time.time()\n",
    "result_time = end-begin\n",
    "print(result_time)"
   ]
  },
  {
   "cell_type": "code",
   "execution_count": 28,
   "metadata": {},
   "outputs": [],
   "source": [
    "for vertex in path:\n",
    "    output[vertex[0]][vertex[1]] = [int(([0, 0, 0][i] + visitedColor[i])/2.0) for i in range(3)]\n",
    "img = Image.fromarray(output.astype('uint8'))\n",
    "img.save(\"3step_netice.png\")"
   ]
  },
  {
   "cell_type": "code",
   "execution_count": 8,
   "metadata": {},
   "outputs": [
    {
     "name": "stdout",
     "output_type": "stream",
     "text": [
      "1458.976838871641\n"
     ]
    }
   ],
   "source": [
    "print(cost[path[len(path)-1]])"
   ]
  },
  {
   "cell_type": "markdown",
   "metadata": {},
   "source": [
    "<img src=\"netice1.png\">"
   ]
  }
 ],
 "metadata": {
  "kernelspec": {
   "display_name": "Python 3",
   "language": "python",
   "name": "python3"
  },
  "language_info": {
   "codemirror_mode": {
    "name": "ipython",
    "version": 3
   },
   "file_extension": ".py",
   "mimetype": "text/x-python",
   "name": "python",
   "nbconvert_exporter": "python",
   "pygments_lexer": "ipython3",
   "version": "3.6.5"
  }
 },
 "nbformat": 4,
 "nbformat_minor": 2
}
