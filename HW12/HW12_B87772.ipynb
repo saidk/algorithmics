{
 "cells": [
  {
   "cell_type": "markdown",
   "metadata": {},
   "source": [
    "EX1: Below is the implementation of nearest neighbour algorithm."
   ]
  },
  {
   "cell_type": "code",
   "execution_count": 1,
   "metadata": {},
   "outputs": [],
   "source": [
    "import math, copy, sys, numpy, itertools\n",
    "\n",
    "from itertools import permutations\n",
    "from math import hypot\n",
    "import numpy as np\n",
    "from time import time\n",
    "\n",
    "def parse(filename):\n",
    "    with open(filename, \"r\") as ins:\n",
    "        ins.readline()\n",
    "        graph = []\n",
    "        for line in ins:\n",
    "            line = tuple(map(int, line.split(\" \")))\n",
    "            graph.append(line)\n",
    "    return graph\n",
    "\n",
    "\n",
    "def nn_algo(start_point, graph):\n",
    "    g = copy.deepcopy(graph)\n",
    "    path = [start_point]\n",
    "    current_node = start_point\n",
    "    while len(g) > 1:\n",
    "        g.remove(current_node)\n",
    "        distances = {}\n",
    "        for i in g:\n",
    "            distances[i] = math.sqrt((i[0] - current_node[0])**2 + (i[1] - current_node[1])**2)\n",
    "        next_node = min(distances)\n",
    "        current_node = next_node\n",
    "        path.append(current_node)\n",
    "    return path\n",
    "\n",
    "def paint(startgraph, path, swogfile):\n",
    "    swog = open(swogfile, \"a\")\n",
    "    swog.write(\"\\n\\n\")\n",
    "    drawline = \"line (p%d) (p%d)\\n\"\n",
    "    for i in range(0, len(path)):\n",
    "        if i == len(path) - 1 :\n",
    "            swog.write(drawline % (startgraph.index(path[i]) + 1, startgraph.index(path[0]) + 1))\n",
    "        else:\n",
    "            swog.write(drawline % (startgraph.index(path[i]) + 1, startgraph.index(path[i + 1]) + 1))\n",
    "    swog.close()\n",
    "\n",
    "\n",
    "\n",
    "ex2 = [20,100,1000]\n",
    "for i in ex2:\n",
    "    graph = parse(\"2018/TSP_\" + str(i) + \".txt\")\n",
    "    path = nn_algo(graph[0], graph)\n",
    "    paint (graph, path, \"2018/TSP_\" + str(i) + \".swog\")"
   ]
  },
  {
   "cell_type": "markdown",
   "metadata": {},
   "source": [
    "The results are shown on the images below"
   ]
  },
  {
   "cell_type": "markdown",
   "metadata": {},
   "source": [
    "<img src=\"tsp_20_duz.png\">"
   ]
  },
  {
   "cell_type": "markdown",
   "metadata": {},
   "source": [
    "<img src=\"tsp_100_duz.png\">"
   ]
  },
  {
   "cell_type": "markdown",
   "metadata": {},
   "source": [
    "<img src=\"tsp_1000.png\">"
   ]
  },
  {
   "cell_type": "markdown",
   "metadata": {},
   "source": [
    "EX2&EX3:For optimization I chose greedy algorithm. Actually, it's Based on Kruskal's algorithm. It only gives a suboptimal solution in general.\n",
    "Works for complete graphs. May not work for a graph that is not complete.\n",
    "Below i showed the path that was found by this algorithm for 20 and 16 \"cities\""
   ]
  },
  {
   "cell_type": "code",
   "execution_count": 2,
   "metadata": {},
   "outputs": [
    {
     "name": "stdout",
     "output_type": "stream",
     "text": [
      "570647\n",
      "Found path of length 570647 in 0.01 seconds\n",
      "[14, 16, 10, 18, 11, 17, 1, 13, 5, 3, 12, 6, 9, 2, 8, 7, 0, 4, 15]\n"
     ]
    }
   ],
   "source": [
    "def algorithm(cities):\n",
    "    best_order = []\n",
    "    best_length = float('inf')\n",
    "\n",
    "    for i_start, start in enumerate(cities):\n",
    "        order = [i_start]\n",
    "        length = 0\n",
    "\n",
    "        i_next, next, dist = get_closest(start, cities, order)\n",
    "        length += dist\n",
    "        order.append(i_next)\n",
    "\n",
    "        while len(order) < cities.shape[0]:\n",
    "            i_next, next, dist = get_closest(next, cities, order)\n",
    "            length += dist\n",
    "            order.append(i_next)\n",
    "\n",
    "\n",
    "        if length < best_length:\n",
    "            best_length = length\n",
    "            best_order = order\n",
    "            \n",
    "    return best_order, best_length\n",
    "\n",
    "def get_closest(city, cities, visited):\n",
    "    best_distance = float('inf')\n",
    "\n",
    "    for i, c in enumerate(cities):\n",
    "\n",
    "        if i not in visited:\n",
    "            distance = dist_squared(city, c)\n",
    "\n",
    "            if distance < best_distance:\n",
    "                closest_city = c\n",
    "                i_closest_city = i\n",
    "                best_distance = distance\n",
    "\n",
    "    return i_closest_city, closest_city, best_distance\n",
    "\n",
    "def dist_squared(c1, c2):\n",
    "    t1 = c2[0] - c1[0]\n",
    "    t2 = c2[1] - c1[1]\n",
    "\n",
    "    return t1**2 + t2**2\n",
    "\n",
    "f = open(\"2018/TSP_20.txt\", 'r').read().splitlines()\n",
    "numCities = f.pop(0)\n",
    "cities = np.array([ tuple( map( int, coord.split() ) ) for coord in f ])\n",
    "# print(cities)\n",
    "#calculating path\n",
    "start = time()\n",
    "path, length = algorithm( cities )\n",
    "print(length)\n",
    "\n",
    "tottime = time() - start\n",
    "print( \"Found path of length %s in %s seconds\" % (round(length,2),round(tottime, 2)))\n",
    "\n",
    "graph = parse(\"2018/TSP_20.txt\")\n",
    "print(path)\n",
    "path_nodes = []\n",
    "for i in path:\n",
    "    path_nodes.append(graph[i])\n",
    "paint (graph, path_nodes, \"2018/TSP_20.swog\")\n"
   ]
  },
  {
   "cell_type": "markdown",
   "metadata": {},
   "source": [
    "<img src=\"greedy_20_duz.png\">"
   ]
  },
  {
   "cell_type": "code",
   "execution_count": 47,
   "metadata": {},
   "outputs": [
    {
     "name": "stdout",
     "output_type": "stream",
     "text": [
      "689615\n",
      "Found path of length 689615 in 0.01 seconds\n",
      "[15, 7, 6, 5, 14, 8, 10, 2, 12, 3, 11, 1, 4, 13, 0, 9]\n"
     ]
    }
   ],
   "source": [
    "f = open(\"2018/TSP_16.txt\", 'r').read().splitlines()\n",
    "numCities = f.pop(0)\n",
    "cities = np.array([ tuple( map( int, coord.split() ) ) for coord in f ])\n",
    "start = time()\n",
    "path, length = algorithm( cities )\n",
    "print(length)\n",
    "\n",
    "tottime = time() - start\n",
    "print( \"Found path of length %s in %s seconds\" % (round(length,2),round(tottime, 2)))\n",
    "\n",
    "graph = parse(\"2018/TSP_16.txt\")\n",
    "print(path)\n",
    "path_nodes = []\n",
    "for i in path:\n",
    "    path_nodes.append(graph[i])\n",
    "paint (graph, path_nodes, \"2018/TSP_16.swog\")"
   ]
  },
  {
   "cell_type": "markdown",
   "metadata": {},
   "source": [
    "<img src=\"greed_16.png\">"
   ]
  },
  {
   "cell_type": "markdown",
   "metadata": {},
   "source": [
    "EX4&EX5:\n",
    "1. Sudoku solving.\n",
    "2. As we know there exist a few solving algorithms of sudoku, such as Backtracking, Stochastic search and etc. To understand how these algorithms work in our project we will try to visualize step-to-step change of this puzzle.\n",
    "3. For those who are not familiar with the algorithms that I specified, we will provide visualization of it, so it would be more understandable, also, we will try to visually present which of the algorithms are faster(may be it can be depended on the various state of the cells).\n",
    "4. Gantt chart:"
   ]
  },
  {
   "cell_type": "code",
   "execution_count": 10,
   "metadata": {},
   "outputs": [
    {
     "data": {
      "text/html": [
       "<table><tr><td></td><td>19-31 December</td><td>1-10 January</td><td>11-19 January</td></tr><tr><td>A</td><td>Analyzing one or two algorthms</td><td>Implementing the algorithm(s) in the visualization tool</td><td>Test & Integration</td></tr><tr><td>B</td><td>Analyzing one or two algorthms</td><td>Implementing the algorithm(s) in the visualization tool</td><td>Test & Integration</td></tr><tr><td>C</td><td>Application layer concept</td><td>Code application layer client/server socket</td><td>Test & Integration</td></tr></table>"
      ],
      "text/plain": [
       "<IPython.core.display.HTML object>"
      ]
     },
     "metadata": {},
     "output_type": "display_data"
    }
   ],
   "source": [
    "from IPython.display import HTML, display\n",
    "\n",
    "data = [[\"\",\"19-31 December\",\"1-10 January\",\"11-19 January\"],\n",
    "         [\"A\",\"Analyzing one or two algorthms\",\"Implementing the algorithm(s) in the visualization tool\",\"Test & Integration\"],\n",
    "         [\"B\",\"Analyzing one or two algorthms\",\"Implementing the algorithm(s) in the visualization tool\",\"Test & Integration\"],\n",
    "         [\"C\",\"Application layer concept\",\"Code application layer client/server socket\",\"Test & Integration\"]]\n",
    "\n",
    "display(HTML(\n",
    "'<table><tr>{}</tr></table>'.format(\n",
    "    '</tr><tr>'.join(\n",
    "        '<td>{}</td>'.format('</td><td>'.join(str(_) for _ in row)) for row in data)\n",
    "    )\n",
    "))"
   ]
  },
  {
   "cell_type": "markdown",
   "metadata": {},
   "source": [
    "5. Provide the results - which algorithm is actually faster and to show the demo of visualization tool on poster session"
   ]
  },
  {
   "cell_type": "markdown",
   "metadata": {},
   "source": [
    "EX7: For me the most useful topics were dynamic programming and graphs, because before the course I did not have good understanding in these topics. \n",
    "In my opinion, the data structures should be covered more deeply and talking about, for example, 5 data structures in one lecture is not efficient.\n",
    "Topics that would need more practical implementation assignments are the exercises related to graphs.\n",
    "The first lectures about order of growth,linear structures and sorting seemed a bit boring for me, because it was the topics that I already know."
   ]
  }
 ],
 "metadata": {
  "kernelspec": {
   "display_name": "Python 3",
   "language": "python",
   "name": "python3"
  },
  "language_info": {
   "codemirror_mode": {
    "name": "ipython",
    "version": 3
   },
   "file_extension": ".py",
   "mimetype": "text/x-python",
   "name": "python",
   "nbconvert_exporter": "python",
   "pygments_lexer": "ipython3",
   "version": "3.6.5"
  }
 },
 "nbformat": 4,
 "nbformat_minor": 2
}
